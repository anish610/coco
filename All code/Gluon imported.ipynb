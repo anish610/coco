{
 "cells": [
  {
   "cell_type": "code",
   "execution_count": 1,
   "metadata": {},
   "outputs": [
    {
     "name": "stdout",
     "output_type": "stream",
     "text": [
      "loading annotations into memory...\n",
      "Done (t=17.27s)\n",
      "creating index...\n",
      "index created!\n",
      "loading annotations into memory...\n",
      "Done (t=0.79s)\n",
      "creating index...\n",
      "index created!\n",
      "Num of training images: 117266\n",
      "Num of validation images: 4952\n"
     ]
    }
   ],
   "source": [
    "from gluoncv import data, utils\n",
    "from matplotlib import pyplot as plt\n",
    "\n",
    "train_dataset = data.COCODetection(splits=['instances_train2017'])\n",
    "val_dataset = data.COCODetection(splits=['instances_val2017'])\n",
    "print('Num of training images:', len(train_dataset))\n",
    "print('Num of validation images:', len(val_dataset))"
   ]
  },
  {
   "cell_type": "code",
   "execution_count": null,
   "metadata": {},
   "outputs": [],
   "source": [
    "i=5\n",
    "while(i>0):\n",
    "    train_image, train_label = train_dataset[i]\n",
    "    bounding_boxes = train_label[:, :4]\n",
    "    class_ids = train_label[:, 4:5]\n",
    "    print('Image size (height, width, RGB):', train_image.shape)\n",
    "    print('Num of objects:', bounding_boxes.shape[0])\n",
    "    print('Bounding boxes (num_boxes, x_min, y_min, x_max, y_max):\\n',bounding_boxes)\n",
    "    print('Class IDs (num_boxes, ):\\n', class_ids)\n",
    "\n",
    "    utils.viz.plot_bbox(train_image.asnumpy(), bounding_boxes, scores=None,\n",
    "                    labels=class_ids, class_names=train_dataset.classes)\n",
    "    plt.show()\n",
    "    i=i-1"
   ]
  },
  {
   "cell_type": "code",
   "execution_count": null,
   "metadata": {},
   "outputs": [],
   "source": []
  }
 ],
 "metadata": {
  "kernelspec": {
   "display_name": "Python 3",
   "language": "python",
   "name": "python3"
  },
  "language_info": {
   "codemirror_mode": {
    "name": "ipython",
    "version": 3
   },
   "file_extension": ".py",
   "mimetype": "text/x-python",
   "name": "python",
   "nbconvert_exporter": "python",
   "pygments_lexer": "ipython3",
   "version": "3.6.8"
  }
 },
 "nbformat": 4,
 "nbformat_minor": 2
}
